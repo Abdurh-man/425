{
 "cells": [
  {
   "cell_type": "code",
   "execution_count": 32,
   "metadata": {},
   "outputs": [],
   "source": [
    "import pandas as pd\n",
    "import matplotlib.pyplot as plt\n",
    "import numpy as np\n",
    "\n",
    "from sklearn.svm import LinearSVC\n",
    "from sklearn.metrics import accuracy_score\n",
    "from sklearn.model_selection import train_test_split, cross_val_score"
   ]
  },
  {
   "cell_type": "markdown",
   "metadata": {},
   "source": [
    "Read in the Stars.csv dataset using pandas and create the y label vector, which will be the\n",
    "Type column. The features we will be using for prediction are the columns Temperature, L,\n",
    "R, and A M. Anywhere you are asked to create a train-test split on the data, you should use\n",
    "a fixed random state throughout (noted in your write-up) and a test size=0.2. Use a fixed\n",
    "random state for the LinearSVC classifier throughout."
   ]
  },
  {
   "cell_type": "code",
   "execution_count": 33,
   "metadata": {},
   "outputs": [
    {
     "name": "stdout",
     "output_type": "stream",
     "text": [
      "[0 0 0 0 0 0 0 0 0 0 1 1 1 1 1 1 1 1 1 1 2 2 2 2 2 2 2 2 2 2 3 3 3 3 3 3 3\n",
      " 3 3 3 4 4 4 4 4 4 4 4 4 4 5 5 5 5 5 5 5 5 5 5 0 0 0 0 0 0 0 0 0 0 1 1 1 1\n",
      " 1 1 1 1 1 1 2 2 2 2 2 2 2 2 2 2 3 3 3 3 3 3 3 3 3 3 4 4 4 4 4 4 4 4 4 4 5\n",
      " 5 5 5 5 5 5 5 5 5 0 0 0 0 0 0 0 0 0 0 1 1 1 1 1 1 1 1 1 1 2 2 2 2 2 2 2 2\n",
      " 2 2 3 3 3 3 3 3 3 3 3 3 4 4 4 4 4 4 4 4 4 4 5 5 5 5 5 5 5 5 5 5 0 0 0 0 0\n",
      " 0 0 0 0 0 1 1 1 1 1 1 1 1 1 1 2 2 2 2 2 2 2 2 2 2 3 3 3 3 3 3 3 3 3 3 4 4\n",
      " 4 4 4 4 4 4 4 4 5 5 5 5 5 5 5 5 5 5]\n"
     ]
    }
   ],
   "source": [
    "data = pd.read_csv(\"Stars.csv\")\n",
    "\n",
    "y_vector = np.array(data.loc[:,'Type'])\n",
    "print(y_vector)\n",
    "\n",
    "row1 = np.array(data['Temperature'])\n",
    "row2 = np.array(data['L'])\n",
    "row3 = np.array(data['R'])\n",
    "row4 = np.array(data['A_M'])\n",
    "\n",
    "x_matrix = np.c_[row1,row2,row3,row4]"
   ]
  },
  {
   "cell_type": "markdown",
   "metadata": {},
   "source": [
    "1. Train-test split on the data\n",
    "2. Create a validation set and subtraining set from the training set (a single validation\n",
    "set, rather than KFolds) with 0.125 of the training set serving as the validation set."
   ]
  },
  {
   "cell_type": "code",
   "execution_count": 34,
   "metadata": {},
   "outputs": [],
   "source": [
    "#1\n",
    "X_tr, X_te, Y_tr,Y_te = train_test_split(x_matrix,y_vector,test_size=0.20,random_state = 78)\n",
    "\n",
    "#2\n",
    "X_valid, X_sub, Y_valid, Y_sub = train_test_split(X_te,Y_te, test_size=0.125,random_state = 78)\n"
   ]
  },
  {
   "cell_type": "markdown",
   "metadata": {},
   "source": [
    "1. Fit the LinearSVC classifier on the training set and evaluate on the validation set for\n",
    "all combinations of max iter=[1000, 10000, 100000, 1000000] and C=[0.01, 0.1, 1, 10,\n",
    "100, 1000]."
   ]
  },
  {
   "cell_type": "code",
   "execution_count": 35,
   "metadata": {},
   "outputs": [
    {
     "name": "stderr",
     "output_type": "stream",
     "text": [
      "C:\\Users\\bahou\\AppData\\Local\\Packages\\PythonSoftwareFoundation.Python.3.10_qbz5n2kfra8p0\\LocalCache\\local-packages\\Python310\\site-packages\\sklearn\\svm\\_base.py:1225: ConvergenceWarning: Liblinear failed to converge, increase the number of iterations.\n",
      "  warnings.warn(\n",
      "C:\\Users\\bahou\\AppData\\Local\\Packages\\PythonSoftwareFoundation.Python.3.10_qbz5n2kfra8p0\\LocalCache\\local-packages\\Python310\\site-packages\\sklearn\\svm\\_base.py:1225: ConvergenceWarning: Liblinear failed to converge, increase the number of iterations.\n",
      "  warnings.warn(\n",
      "C:\\Users\\bahou\\AppData\\Local\\Packages\\PythonSoftwareFoundation.Python.3.10_qbz5n2kfra8p0\\LocalCache\\local-packages\\Python310\\site-packages\\sklearn\\svm\\_base.py:1225: ConvergenceWarning: Liblinear failed to converge, increase the number of iterations.\n",
      "  warnings.warn(\n",
      "C:\\Users\\bahou\\AppData\\Local\\Packages\\PythonSoftwareFoundation.Python.3.10_qbz5n2kfra8p0\\LocalCache\\local-packages\\Python310\\site-packages\\sklearn\\svm\\_base.py:1225: ConvergenceWarning: Liblinear failed to converge, increase the number of iterations.\n",
      "  warnings.warn(\n",
      "C:\\Users\\bahou\\AppData\\Local\\Packages\\PythonSoftwareFoundation.Python.3.10_qbz5n2kfra8p0\\LocalCache\\local-packages\\Python310\\site-packages\\sklearn\\svm\\_base.py:1225: ConvergenceWarning: Liblinear failed to converge, increase the number of iterations.\n",
      "  warnings.warn(\n",
      "C:\\Users\\bahou\\AppData\\Local\\Packages\\PythonSoftwareFoundation.Python.3.10_qbz5n2kfra8p0\\LocalCache\\local-packages\\Python310\\site-packages\\sklearn\\svm\\_base.py:1225: ConvergenceWarning: Liblinear failed to converge, increase the number of iterations.\n",
      "  warnings.warn(\n",
      "C:\\Users\\bahou\\AppData\\Local\\Packages\\PythonSoftwareFoundation.Python.3.10_qbz5n2kfra8p0\\LocalCache\\local-packages\\Python310\\site-packages\\sklearn\\svm\\_base.py:1225: ConvergenceWarning: Liblinear failed to converge, increase the number of iterations.\n",
      "  warnings.warn(\n",
      "C:\\Users\\bahou\\AppData\\Local\\Packages\\PythonSoftwareFoundation.Python.3.10_qbz5n2kfra8p0\\LocalCache\\local-packages\\Python310\\site-packages\\sklearn\\svm\\_base.py:1225: ConvergenceWarning: Liblinear failed to converge, increase the number of iterations.\n",
      "  warnings.warn(\n",
      "C:\\Users\\bahou\\AppData\\Local\\Packages\\PythonSoftwareFoundation.Python.3.10_qbz5n2kfra8p0\\LocalCache\\local-packages\\Python310\\site-packages\\sklearn\\svm\\_base.py:1225: ConvergenceWarning: Liblinear failed to converge, increase the number of iterations.\n",
      "  warnings.warn(\n",
      "C:\\Users\\bahou\\AppData\\Local\\Packages\\PythonSoftwareFoundation.Python.3.10_qbz5n2kfra8p0\\LocalCache\\local-packages\\Python310\\site-packages\\sklearn\\svm\\_base.py:1225: ConvergenceWarning: Liblinear failed to converge, increase the number of iterations.\n",
      "  warnings.warn(\n",
      "C:\\Users\\bahou\\AppData\\Local\\Packages\\PythonSoftwareFoundation.Python.3.10_qbz5n2kfra8p0\\LocalCache\\local-packages\\Python310\\site-packages\\sklearn\\svm\\_base.py:1225: ConvergenceWarning: Liblinear failed to converge, increase the number of iterations.\n",
      "  warnings.warn(\n",
      "C:\\Users\\bahou\\AppData\\Local\\Packages\\PythonSoftwareFoundation.Python.3.10_qbz5n2kfra8p0\\LocalCache\\local-packages\\Python310\\site-packages\\sklearn\\svm\\_base.py:1225: ConvergenceWarning: Liblinear failed to converge, increase the number of iterations.\n",
      "  warnings.warn(\n",
      "C:\\Users\\bahou\\AppData\\Local\\Packages\\PythonSoftwareFoundation.Python.3.10_qbz5n2kfra8p0\\LocalCache\\local-packages\\Python310\\site-packages\\sklearn\\svm\\_base.py:1225: ConvergenceWarning: Liblinear failed to converge, increase the number of iterations.\n",
      "  warnings.warn(\n",
      "C:\\Users\\bahou\\AppData\\Local\\Packages\\PythonSoftwareFoundation.Python.3.10_qbz5n2kfra8p0\\LocalCache\\local-packages\\Python310\\site-packages\\sklearn\\svm\\_base.py:1225: ConvergenceWarning: Liblinear failed to converge, increase the number of iterations.\n",
      "  warnings.warn(\n",
      "C:\\Users\\bahou\\AppData\\Local\\Packages\\PythonSoftwareFoundation.Python.3.10_qbz5n2kfra8p0\\LocalCache\\local-packages\\Python310\\site-packages\\sklearn\\svm\\_base.py:1225: ConvergenceWarning: Liblinear failed to converge, increase the number of iterations.\n",
      "  warnings.warn(\n",
      "C:\\Users\\bahou\\AppData\\Local\\Packages\\PythonSoftwareFoundation.Python.3.10_qbz5n2kfra8p0\\LocalCache\\local-packages\\Python310\\site-packages\\sklearn\\svm\\_base.py:1225: ConvergenceWarning: Liblinear failed to converge, increase the number of iterations.\n",
      "  warnings.warn(\n",
      "C:\\Users\\bahou\\AppData\\Local\\Packages\\PythonSoftwareFoundation.Python.3.10_qbz5n2kfra8p0\\LocalCache\\local-packages\\Python310\\site-packages\\sklearn\\svm\\_base.py:1225: ConvergenceWarning: Liblinear failed to converge, increase the number of iterations.\n",
      "  warnings.warn(\n",
      "C:\\Users\\bahou\\AppData\\Local\\Packages\\PythonSoftwareFoundation.Python.3.10_qbz5n2kfra8p0\\LocalCache\\local-packages\\Python310\\site-packages\\sklearn\\svm\\_base.py:1225: ConvergenceWarning: Liblinear failed to converge, increase the number of iterations.\n",
      "  warnings.warn(\n",
      "C:\\Users\\bahou\\AppData\\Local\\Packages\\PythonSoftwareFoundation.Python.3.10_qbz5n2kfra8p0\\LocalCache\\local-packages\\Python310\\site-packages\\sklearn\\svm\\_base.py:1225: ConvergenceWarning: Liblinear failed to converge, increase the number of iterations.\n",
      "  warnings.warn(\n",
      "C:\\Users\\bahou\\AppData\\Local\\Packages\\PythonSoftwareFoundation.Python.3.10_qbz5n2kfra8p0\\LocalCache\\local-packages\\Python310\\site-packages\\sklearn\\svm\\_base.py:1225: ConvergenceWarning: Liblinear failed to converge, increase the number of iterations.\n",
      "  warnings.warn(\n",
      "C:\\Users\\bahou\\AppData\\Local\\Packages\\PythonSoftwareFoundation.Python.3.10_qbz5n2kfra8p0\\LocalCache\\local-packages\\Python310\\site-packages\\sklearn\\svm\\_base.py:1225: ConvergenceWarning: Liblinear failed to converge, increase the number of iterations.\n",
      "  warnings.warn(\n",
      "C:\\Users\\bahou\\AppData\\Local\\Packages\\PythonSoftwareFoundation.Python.3.10_qbz5n2kfra8p0\\LocalCache\\local-packages\\Python310\\site-packages\\sklearn\\svm\\_base.py:1225: ConvergenceWarning: Liblinear failed to converge, increase the number of iterations.\n",
      "  warnings.warn(\n",
      "C:\\Users\\bahou\\AppData\\Local\\Packages\\PythonSoftwareFoundation.Python.3.10_qbz5n2kfra8p0\\LocalCache\\local-packages\\Python310\\site-packages\\sklearn\\svm\\_base.py:1225: ConvergenceWarning: Liblinear failed to converge, increase the number of iterations.\n",
      "  warnings.warn(\n",
      "C:\\Users\\bahou\\AppData\\Local\\Packages\\PythonSoftwareFoundation.Python.3.10_qbz5n2kfra8p0\\LocalCache\\local-packages\\Python310\\site-packages\\sklearn\\svm\\_base.py:1225: ConvergenceWarning: Liblinear failed to converge, increase the number of iterations.\n",
      "  warnings.warn(\n"
     ]
    }
   ],
   "source": [
    "max_iter = [1000, 10000, 100000, 1000000] \n",
    "C = [0.01, 0.1, 1, 10, 100, 1000]\n",
    "val_acc = []\n",
    "for max in max_iter:\n",
    "    for c in C:\n",
    "        clf = LinearSVC(max_iter=max,C=c)\n",
    "        clf.fit(X_sub, Y_sub)\n",
    "\n",
    "        y_pred = clf.predict(X_valid)\n",
    "        accuracy =  accuracy_score(Y_valid, y_pred)\n",
    "\n",
    "        # accuracy = np.mean(cross_val_score(clf, X_valid, Y_valid))\n",
    "\n",
    "        val_acc.append(accuracy)"
   ]
  },
  {
   "cell_type": "markdown",
   "metadata": {},
   "source": [
    "2. Print the validation accuracy for each combination and show a heatmap comparing of\n",
    "the validation accuracies across the combinations (include a colorbar)"
   ]
  },
  {
   "cell_type": "code",
   "execution_count": 36,
   "metadata": {},
   "outputs": [
    {
     "name": "stdout",
     "output_type": "stream",
     "text": [
      "max_iter = 1000, c = 0.01:\n",
      "Validation accuracy:  0.21428571428571427 \n",
      "\n",
      "max_iter = 1000, c = 0.1:\n",
      "Validation accuracy:  0.21428571428571427 \n",
      "\n",
      "max_iter = 1000, c = 1:\n",
      "Validation accuracy:  0.21428571428571427 \n",
      "\n",
      "max_iter = 1000, c = 10:\n",
      "Validation accuracy:  0.21428571428571427 \n",
      "\n",
      "max_iter = 1000, c = 100:\n",
      "Validation accuracy:  0.21428571428571427 \n",
      "\n",
      "max_iter = 1000, c = 1000:\n",
      "Validation accuracy:  0.2857142857142857 \n",
      "\n",
      "max_iter = 10000, c = 0.01:\n",
      "Validation accuracy:  0.21428571428571427 \n",
      "\n",
      "max_iter = 10000, c = 0.1:\n",
      "Validation accuracy:  0.2857142857142857 \n",
      "\n",
      "max_iter = 10000, c = 1:\n",
      "Validation accuracy:  0.2619047619047619 \n",
      "\n",
      "max_iter = 10000, c = 10:\n",
      "Validation accuracy:  0.3333333333333333 \n",
      "\n",
      "max_iter = 10000, c = 100:\n",
      "Validation accuracy:  0.2619047619047619 \n",
      "\n",
      "max_iter = 10000, c = 1000:\n",
      "Validation accuracy:  0.2619047619047619 \n",
      "\n",
      "max_iter = 100000, c = 0.01:\n",
      "Validation accuracy:  0.2619047619047619 \n",
      "\n",
      "max_iter = 100000, c = 0.1:\n",
      "Validation accuracy:  0.2619047619047619 \n",
      "\n",
      "max_iter = 100000, c = 1:\n",
      "Validation accuracy:  0.2619047619047619 \n",
      "\n",
      "max_iter = 100000, c = 10:\n",
      "Validation accuracy:  0.2619047619047619 \n",
      "\n",
      "max_iter = 100000, c = 100:\n",
      "Validation accuracy:  0.30952380952380953 \n",
      "\n",
      "max_iter = 100000, c = 1000:\n",
      "Validation accuracy:  0.2857142857142857 \n",
      "\n",
      "max_iter = 1000000, c = 0.01:\n",
      "Validation accuracy:  0.30952380952380953 \n",
      "\n",
      "max_iter = 1000000, c = 0.1:\n",
      "Validation accuracy:  0.2857142857142857 \n",
      "\n",
      "max_iter = 1000000, c = 1:\n",
      "Validation accuracy:  0.3333333333333333 \n",
      "\n",
      "max_iter = 1000000, c = 10:\n",
      "Validation accuracy:  0.2857142857142857 \n",
      "\n",
      "max_iter = 1000000, c = 100:\n",
      "Validation accuracy:  0.2857142857142857 \n",
      "\n",
      "max_iter = 1000000, c = 1000:\n",
      "Validation accuracy:  0.2857142857142857 \n",
      "\n"
     ]
    },
    {
     "data": {
      "text/plain": [
       "Text(0, 0.5, 'max_iter')"
      ]
     },
     "execution_count": 36,
     "metadata": {},
     "output_type": "execute_result"
    },
    {
     "data": {
      "image/png": "[encoded data removed]",
      "text/plain": [
       "<Figure size 640x480 with 2 Axes>"
      ]
     },
     "metadata": {},
     "output_type": "display_data"
    }
   ],
   "source": [
    "matrix = [[],[],[],[]]\n",
    "for i in range(len(max_iter)):\n",
    "    for j in range(len(C)): \n",
    "        print(\"max_iter = {}, c = {}:\".format(max_iter[i],C[j]))\n",
    "        print(\"Validation accuracy: \", val_acc[i*4 + j],\"\\n\")\n",
    "        matrix[i].append(val_acc[i*4 + j])\n",
    "\n",
    "plt.pcolor(matrix)\n",
    "plt.colorbar()\n",
    "\n",
    "plt.title(\"Validation accuracies across max_iter and C\")\n",
    "\n",
    "plt.xticks(np.arange(len(C)), C)\n",
    "plt.xlabel(\"C\")\n",
    "plt.yticks(np.arange(len(max_iter)), max_iter)\n",
    "plt.ylabel(\"max_iter\")"
   ]
  },
  {
   "cell_type": "markdown",
   "metadata": {},
   "source": [
    "Question 2.2 (5 points): Use the maximum iterations and C values you found to perform\n",
    "best to inform how you create your LinearSVC() and fit on the whole training set. Compute\n",
    "and print the training and testing accuracy for the Stars dataset."
   ]
  },
  {
   "cell_type": "code",
   "execution_count": 37,
   "metadata": {},
   "outputs": [
    {
     "name": "stdout",
     "output_type": "stream",
     "text": [
      "Training:  0.6145833333333334\n",
      "Testing:  0.6875\n"
     ]
    },
    {
     "name": "stderr",
     "output_type": "stream",
     "text": [
      "C:\\Users\\bahou\\AppData\\Local\\Packages\\PythonSoftwareFoundation.Python.3.10_qbz5n2kfra8p0\\LocalCache\\local-packages\\Python310\\site-packages\\sklearn\\svm\\_base.py:1225: ConvergenceWarning: Liblinear failed to converge, increase the number of iterations.\n",
      "  warnings.warn(\n"
     ]
    }
   ],
   "source": [
    "# best maximum iteratoins and C values\n",
    "# max_iter = 100000, c = 1000:\n",
    "# Training:  0.35714285714285715\n",
    "clf = LinearSVC(max_iter=100000,C=1000)\n",
    "\n",
    "clf.fit(X_tr,Y_tr)\n",
    "y_predict = clf.predict(X_tr)\n",
    "print(\"Training: \", accuracy_score(Y_tr, y_predict))\n",
    "\n",
    "y_predict = clf.predict(X_te)\n",
    "print(\"Testing: \", accuracy_score(Y_te, y_predict))"
   ]
  },
  {
   "cell_type": "markdown",
   "metadata": {},
   "source": []
  }
 ],
 "metadata": {
  "kernelspec": {
   "display_name": "Python 3.10.8 64-bit (microsoft store)",
   "language": "python",
   "name": "python3"
  },
  "language_info": {
   "codemirror_mode": {
    "name": "ipython",
    "version": 3
   },
   "file_extension": ".py",
   "mimetype": "text/x-python",
   "name": "python",
   "nbconvert_exporter": "python",
   "pygments_lexer": "ipython3",
   "version": "3.10.8"
  },
  "orig_nbformat": 4,
  "vscode": {
   "interpreter": {
    "hash": "42b5eafb3a19fbbee303eec013269ed9af90bf2648e7dbb5c369300ad88ff07d"
   }
  }
 },
 "nbformat": 4,
 "nbformat_minor": 2
}
